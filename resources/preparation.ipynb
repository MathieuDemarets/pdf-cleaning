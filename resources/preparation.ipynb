{
 "cells": [
  {
   "cell_type": "markdown",
   "metadata": {},
   "source": [
    "# Preparation for the model fine-tuning\n",
    "\n",
    "In order to fine-tune the model, we need to prepare the data. Then the code to fine-tune the model is in the `fine_tuning.ipynb` notebook. The data preparation steps are the same as in the `test_notebook.ipynb` with the addition of the unzipping of the labels downloaded from the [CVAT](https://app.cvat.ai/) tool with `extract_label_zip`."
   ]
  },
  {
   "cell_type": "code",
   "execution_count": 1,
   "metadata": {},
   "outputs": [],
   "source": [
    "import pdf_cleaning as pc"
   ]
  },
  {
   "cell_type": "code",
   "execution_count": 8,
   "metadata": {},
   "outputs": [
    {
     "name": "stdout",
     "output_type": "stream",
     "text": [
      "> pdf to jpg dictionnary created\n"
     ]
    }
   ],
   "source": [
    "input_dir = 'C:/Users/User/Desktop/assignment/input'\n",
    "split_dir = 'C:/Users/User/Desktop/assignment/split'\n",
    "dictionnary_dir = 'C:/Users/User/Desktop/assignment/pdf2jpg.json'\n",
    "\n",
    "pc.create_pdf2jpg(dictionnary_dir, input_dir, split_dir)"
   ]
  },
  {
   "cell_type": "code",
   "execution_count": 9,
   "metadata": {},
   "outputs": [
    {
     "name": "stdout",
     "output_type": "stream",
     "text": [
      "> pdf to jpg dictionnary loaded\n",
      "> Agarwal et al - 2021 - neural additive models interpretable machine learning with neural nets - NeurIPS-2021-.pdf added to dictionnary\n",
      "> Agosto et al - 2020  - A new proposal to improve credit scoring model predictive accuracy.pdf added to dictionnary\n",
      "> Aleksandrova and Parusheva - 2021 - Performance Evaluation of Machine Learning Models for Credit Risk Prediction.pdf added to dictionnary\n",
      "> Altman et al - 2020-  A race for long horizon bankruptcy prediction.pdf added to dictionnary\n",
      "> Byanjankar et al - 2020 Data-driven optimization of P2P lending portfolios.pdf added to dictionnary\n",
      "> Chang et al - 2022 - Machine learning and artificial neural networks to construct P2P.pdf added to dictionnary\n",
      "> Chen et al - FinQA a dataset of numerical reasoning over financial data - arXiv 2022.pdf added to dictionnary\n",
      "> Climate risks and financial stability Evidence from the European financial system - JFS 2023.pdf added to dictionnary\n",
      "> Credit scroring models v2.0 submitted IRFA.pdf added to dictionnary\n",
      "> Dolphin et al. - Stock Embeddings Learning distributed representations for financial assets - arXiv 2022.pdf added to dictionnary\n",
      "> Dushimimana et al - 2020 - Use of machine learning techniques to create a credit score model for airtime loans.pdf added to dictionnary\n",
      "> Dushimimana et al. - 2020 - Use of machine learning techniques to create a credit score model for airtime loans.pdf added to dictionnary\n",
      "> Explainable Boosting Machine - Interpret ML.pdf added to dictionnary\n",
      "> Gupta - GPTInvestAR enhancing stock investment strategies - arXiv 2023.pdf added to dictionnary\n",
      "> Gölz et al - Paradoxes in fair machine learning.pdf added to dictionnary\n",
      "> Hassan et al - A systematic survey of AI models in Financial Market Forecasting - IEEE 2023.pdf added to dictionnary\n",
      "> Hossain et al - Designing fairly fair classifiers via economic fairness notions.pdf added to dictionnary\n",
      "> IIF 2019 08 Machine Learning in Credit Risk.pdf added to dictionnary\n",
      "> Kim and Cho - 2019 - Predicting repayment of borrows in P2P social lending with Deep dense CNN.pdf added to dictionnary\n",
      "> Ko et al - 2022 - P2P Lending Default Prediction Based on AI and.pdf added to dictionnary\n",
      "> Lee et al - 2021 - Graph CNN credit default prediction.pdf added to dictionnary\n",
      "> Li - 2022 - Online Loan Default Prediction Model based on Deep NN 2022.pdf added to dictionnary\n",
      "> Li et al - TradingGPT multiagent system with layered memory for trading - arXiv 2023.pdf added to dictionnary\n",
      "> Lohmann & Ohliger 2019 - The total cost of misclassification in credit scoring - JoForecasting.pdf added to dictionnary\n",
      "> Lu et al - 2022 - Multi-layer and parrallel-connected graph CNN for detecting debt default in P2P.pdf added to dictionnary\n",
      "> Ma et al - 2018 - Study on a prediction of P2P network loan LGBM XGB.pdf added to dictionnary\n",
      "> Nori et al - 2019 - InterpretML A United Framework for Machine Learning Interpretability - arXiv.pdf added to dictionnary\n",
      "> Nori et al - 2021 - Accuracy, Interpretability, and Differential Privacy via Explainable Boosting - PMLR.pdf added to dictionnary\n",
      "> Penny Jolliffle - 2001 - a comparison of multivariate outlier detection methods - The Statistician.pdf added to dictionnary\n",
      "> Pillai et al - 2019 - Machine Learning Analysis of Mortgage Credit Risk.pdf added to dictionnary\n",
      "> SSRN-id4624501.pdf added to dictionnary\n",
      "> Starosa - LGD decomposition using mixture distributions nof in-default events - EJOR 2023.pdf added to dictionnary\n",
      "> Tavakoli et al. - Multi-modal deep learning for credit rating prediction using text and numerical data streams - arXiv 2023.pdf added to dictionnary\n",
      "> Xia et al. 2022 - From credit scoring to regulatory scoring Comparing credit scoring models from a regulatory perspective - TEDE.pdf added to dictionnary\n",
      "> Xiao et al. - Enhancing LLM with Evolutionary fine-tuning for news summary generation - arXiv 2023.pdf added to dictionnary\n",
      "> Yang et al - InvestLM LLM for investment - arXiv 2023.pdf added to dictionnary\n",
      "> pdf to jpg dictionnary saved\n"
     ]
    }
   ],
   "source": [
    "pc.init_pdf2jpg(dictionnary_dir)"
   ]
  },
  {
   "cell_type": "code",
   "execution_count": 10,
   "metadata": {},
   "outputs": [
    {
     "name": "stdout",
     "output_type": "stream",
     "text": [
      "   > Agarwal et al - 2021 - neural additive models interpretable machine learning with neural nets - NeurIPS-2021-.pdf converted to jpg (pages: 14)\n",
      "   > Agosto et al - 2020  - A new proposal to improve credit scoring model predictive accuracy.pdf converted to jpg (pages: 7)\n",
      "   > Aleksandrova and Parusheva - 2021 - Performance Evaluation of Machine Learning Models for Credit Risk Prediction.pdf converted to jpg (pages: 12)\n",
      "   > Altman et al - 2020-  A race for long horizon bankruptcy prediction.pdf converted to jpg (pages: 22)\n",
      "   > Byanjankar et al - 2020 Data-driven optimization of P2P lending portfolios.pdf converted to jpg (pages: 13)\n",
      "   > Chang et al - 2022 - Machine learning and artificial neural networks to construct P2P.pdf converted to jpg (pages: 24)\n",
      "   > Chen et al - FinQA a dataset of numerical reasoning over financial data - arXiv 2022.pdf converted to jpg (pages: 15)\n",
      "   > Climate risks and financial stability Evidence from the European financial system - JFS 2023.pdf converted to jpg (pages: 15)\n",
      "   > Credit scroring models v2.0 submitted IRFA.pdf converted to jpg (pages: 26)\n",
      "   > Dolphin et al. - Stock Embeddings Learning distributed representations for financial assets - arXiv 2022.pdf converted to jpg (pages: 10)\n",
      "   > Dushimimana et al - 2020 - Use of machine learning techniques to create a credit score model for airtime loans.pdf converted to jpg (pages: 12)\n",
      "   > Dushimimana et al. - 2020 - Use of machine learning techniques to create a credit score model for airtime loans.pdf converted to jpg (pages: 12)\n",
      "   > Explainable Boosting Machine - Interpret ML.pdf converted to jpg (pages: 8)\n",
      "   > Gupta - GPTInvestAR enhancing stock investment strategies - arXiv 2023.pdf converted to jpg (pages: 16)\n",
      "   > Gölz et al - Paradoxes in fair machine learning.pdf converted to jpg (pages: 14)\n",
      "   > Hassan et al - A systematic survey of AI models in Financial Market Forecasting - IEEE 2023.pdf converted to jpg (pages: 23)\n",
      "   > Hossain et al - Designing fairly fair classifiers via economic fairness notions.pdf converted to jpg (pages: 13)\n",
      "   > IIF 2019 08 Machine Learning in Credit Risk.pdf converted to jpg (pages: 12)\n",
      "   > Kim and Cho - 2019 - Predicting repayment of borrows in P2P social lending with Deep dense CNN.pdf converted to jpg (pages: 14)\n",
      "   > Ko et al - 2022 - P2P Lending Default Prediction Based on AI and.pdf converted to jpg (pages: 24)\n",
      "   > Lee et al - 2021 - Graph CNN credit default prediction.pdf converted to jpg (pages: 8)\n",
      "   > Li - 2022 - Online Loan Default Prediction Model based on Deep NN 2022.pdf converted to jpg (pages: 10)\n",
      "   > Li et al - TradingGPT multiagent system with layered memory for trading - arXiv 2023.pdf converted to jpg (pages: 8)\n",
      "   > Lohmann & Ohliger 2019 - The total cost of misclassification in credit scoring - JoForecasting.pdf converted to jpg (pages: 17)\n",
      "   > Lu et al - 2022 - Multi-layer and parrallel-connected graph CNN for detecting debt default in P2P.pdf converted to jpg (pages: 16)\n",
      "   > Ma et al - 2018 - Study on a prediction of P2P network loan LGBM XGB.pdf converted to jpg (pages: 17)\n",
      "   > Nori et al - 2019 - InterpretML A United Framework for Machine Learning Interpretability - arXiv.pdf converted to jpg (pages: 9)\n",
      "   > Nori et al - 2021 - Accuracy, Interpretability, and Differential Privacy via Explainable Boosting - PMLR.pdf converted to jpg (pages: 12)\n",
      "   > Penny Jolliffle - 2001 - a comparison of multivariate outlier detection methods - The Statistician.pdf converted to jpg (pages: 16)\n",
      "   > Pillai et al - 2019 - Machine Learning Analysis of Mortgage Credit Risk.pdf converted to jpg (pages: 9)\n",
      "   > SSRN-id4624501.pdf converted to jpg (pages: 26)\n",
      "   > Starosa - LGD decomposition using mixture distributions nof in-default events - EJOR 2023.pdf converted to jpg (pages: 14)\n",
      "   > Tavakoli et al. - Multi-modal deep learning for credit rating prediction using text and numerical data streams - arXiv 2023.pdf converted to jpg (pages: 18)\n",
      "   > Xia et al. 2022 - From credit scoring to regulatory scoring Comparing credit scoring models from a regulatory perspective - TEDE.pdf converted to jpg (pages: 39)\n",
      "   > Xiao et al. - Enhancing LLM with Evolutionary fine-tuning for news summary generation - arXiv 2023.pdf converted to jpg (pages: 13)\n",
      "   > Yang et al - InvestLM LLM for investment - arXiv 2023.pdf converted to jpg (pages: 11)\n",
      "> pdf to jpg dictionnary saved\n"
     ]
    }
   ],
   "source": [
    "pc.transform_pdf_to_jpg(dictionnary_dir)"
   ]
  },
  {
   "cell_type": "code",
   "execution_count": 11,
   "metadata": {},
   "outputs": [
    {
     "name": "stdout",
     "output_type": "stream",
     "text": [
      "Extracting: 1.zip\n",
      "Extracting: 10.zip\n",
      "Extracting: 11.zip\n",
      "Extracting: 2.zip\n",
      "Extracting: 3.zip\n",
      "Extracting: 4.zip\n",
      "Extracting: 5.zip\n",
      "Extracting: 6.zip\n",
      "Extracting: 7.zip\n",
      "Extracting: 8.zip\n",
      "Extracting: 9.zip\n",
      "11 files extracted\n",
      "Repository cleaned\n"
     ]
    }
   ],
   "source": [
    "dir_labels = 'C:/Users/User/Desktop/assignment/labels'\n",
    "pc.extract_label_zip(dir_labels, dir_labels)"
   ]
  }
 ],
 "metadata": {
  "kernelspec": {
   "display_name": ".venv",
   "language": "python",
   "name": "python3"
  },
  "language_info": {
   "codemirror_mode": {
    "name": "ipython",
    "version": 3
   },
   "file_extension": ".py",
   "mimetype": "text/x-python",
   "name": "python",
   "nbconvert_exporter": "python",
   "pygments_lexer": "ipython3",
   "version": "3.11.7"
  }
 },
 "nbformat": 4,
 "nbformat_minor": 2
}
