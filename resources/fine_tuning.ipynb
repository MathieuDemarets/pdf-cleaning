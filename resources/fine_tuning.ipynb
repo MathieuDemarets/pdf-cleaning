{
  "cells": [
    {
      "cell_type": "markdown",
      "id": "281c2cc3",
      "metadata": {},
      "source": [
        "# Fine-tuning the YOLOv8 model\n",
        "\n",
        "After the data preparation from the `preparation.ipynb` notebook, we can fine-tune the computer vision model for our specific needs. This should be done on a GPU-enabled machine, as the training process is computationally expensive. We recommend using `Google Colab` for this purpose if you don't have access to a paying Cloud license."
      ]
    },
    {
      "cell_type": "markdown",
      "id": "1e20dfc0",
      "metadata": {},
      "source": [
        "## 1. Connect to your drive and import packages"
      ]
    },
    {
      "cell_type": "code",
      "execution_count": null,
      "id": "kXYkwzP4tkUa",
      "metadata": {
        "colab": {
          "base_uri": "https://localhost:8080/"
        },
        "id": "kXYkwzP4tkUa",
        "outputId": "7dfbb531-9e46-4c21-ab0d-91815c1ea2e2"
      },
      "outputs": [
        {
          "name": "stdout",
          "output_type": "stream",
          "text": [
            "Mounted at /content/drive\n"
          ]
        }
      ],
      "source": [
        "# # Let colab access the google drive where your files are stored\n",
        "# from google.colab import drive\n",
        "# drive.mount('/content/drive')"
      ]
    },
    {
      "cell_type": "code",
      "execution_count": null,
      "id": "a23832cb",
      "metadata": {
        "id": "a23832cb"
      },
      "outputs": [],
      "source": [
        "import numpy as np\n",
        "import pandas as pd\n",
        "import matplotlib.pyplot as plt\n",
        "import tensorflow as tf\n",
        "import os\n",
        "import shutil\n",
        "from sklearn.model_selection import train_test_split\n",
        "\n",
        "!pip install ultralytics\n",
        "from ultralytics import YOLO"
      ]
    },
    {
      "cell_type": "code",
      "execution_count": null,
      "id": "FkFCK_20wngz",
      "metadata": {
        "colab": {
          "base_uri": "https://localhost:8080/",
          "height": 35
        },
        "id": "FkFCK_20wngz",
        "outputId": "1cc55c77-1024-43cb-d295-71d9cdeed826"
      },
      "outputs": [
        {
          "data": {
            "application/vnd.google.colaboratory.intrinsic+json": {
              "type": "string"
            },
            "text/plain": [
              "'/device:GPU:0'"
            ]
          },
          "execution_count": 3,
          "metadata": {},
          "output_type": "execute_result"
        }
      ],
      "source": [
        "# Check if GPU is available (non-empty string means GPU available)\n",
        "tf.test.gpu_device_name()"
      ]
    },
    {
      "cell_type": "markdown",
      "id": "ti2UcqI-OAMy",
      "metadata": {
        "id": "ti2UcqI-OAMy"
      },
      "source": [
        "## 2. Training and validation data preparation"
      ]
    },
    {
      "cell_type": "code",
      "execution_count": null,
      "id": "PgzMkmtjC_d_",
      "metadata": {
        "colab": {
          "base_uri": "https://localhost:8080/",
          "height": 206
        },
        "id": "PgzMkmtjC_d_",
        "outputId": "dc3205eb-c303-4880-bd79-018b8d2442bd"
      },
      "outputs": [
        {
          "data": {
            "text/html": [
              "\n",
              "  <div id=\"df-ea3f6b60-c7f2-4008-bcd5-1538b609d5c0\" class=\"colab-df-container\">\n",
              "    <div>\n",
              "<style scoped>\n",
              "    .dataframe tbody tr th:only-of-type {\n",
              "        vertical-align: middle;\n",
              "    }\n",
              "\n",
              "    .dataframe tbody tr th {\n",
              "        vertical-align: top;\n",
              "    }\n",
              "\n",
              "    .dataframe thead th {\n",
              "        text-align: right;\n",
              "    }\n",
              "</style>\n",
              "<table border=\"1\" class=\"dataframe\">\n",
              "  <thead>\n",
              "    <tr style=\"text-align: right;\">\n",
              "      <th></th>\n",
              "      <th>image_dir</th>\n",
              "      <th>image_lab</th>\n",
              "      <th>label_dir</th>\n",
              "      <th>label_lab</th>\n",
              "    </tr>\n",
              "  </thead>\n",
              "  <tbody>\n",
              "    <tr>\n",
              "      <th>0</th>\n",
              "      <td>/content/drive/MyDrive/Masters 24/DeepLearning...</td>\n",
              "      <td>xai_med_0</td>\n",
              "      <td>/content/drive/MyDrive/Masters 24/DeepLearning...</td>\n",
              "      <td>xai_med_0</td>\n",
              "    </tr>\n",
              "    <tr>\n",
              "      <th>1</th>\n",
              "      <td>/content/drive/MyDrive/Masters 24/DeepLearning...</td>\n",
              "      <td>xai_med_6</td>\n",
              "      <td>/content/drive/MyDrive/Masters 24/DeepLearning...</td>\n",
              "      <td>xai_med_6</td>\n",
              "    </tr>\n",
              "    <tr>\n",
              "      <th>2</th>\n",
              "      <td>/content/drive/MyDrive/Masters 24/DeepLearning...</td>\n",
              "      <td>xai_med_4</td>\n",
              "      <td>/content/drive/MyDrive/Masters 24/DeepLearning...</td>\n",
              "      <td>xai_med_4</td>\n",
              "    </tr>\n",
              "    <tr>\n",
              "      <th>3</th>\n",
              "      <td>/content/drive/MyDrive/Masters 24/DeepLearning...</td>\n",
              "      <td>xai_med_3</td>\n",
              "      <td>/content/drive/MyDrive/Masters 24/DeepLearning...</td>\n",
              "      <td>xai_med_3</td>\n",
              "    </tr>\n",
              "    <tr>\n",
              "      <th>4</th>\n",
              "      <td>/content/drive/MyDrive/Masters 24/DeepLearning...</td>\n",
              "      <td>xai_med_1</td>\n",
              "      <td>/content/drive/MyDrive/Masters 24/DeepLearning...</td>\n",
              "      <td>xai_med_1</td>\n",
              "    </tr>\n",
              "  </tbody>\n",
              "</table>\n",
              "</div>\n",
              "    <div class=\"colab-df-buttons\">\n",
              "\n",
              "  <div class=\"colab-df-container\">\n",
              "    <button class=\"colab-df-convert\" onclick=\"convertToInteractive('df-ea3f6b60-c7f2-4008-bcd5-1538b609d5c0')\"\n",
              "            title=\"Convert this dataframe to an interactive table.\"\n",
              "            style=\"display:none;\">\n",
              "\n",
              "  <svg xmlns=\"http://www.w3.org/2000/svg\" height=\"24px\" viewBox=\"0 -960 960 960\">\n",
              "    <path d=\"M120-120v-720h720v720H120Zm60-500h600v-160H180v160Zm220 220h160v-160H400v160Zm0 220h160v-160H400v160ZM180-400h160v-160H180v160Zm440 0h160v-160H620v160ZM180-180h160v-160H180v160Zm440 0h160v-160H620v160Z\"/>\n",
              "  </svg>\n",
              "    </button>\n",
              "\n",
              "  <style>\n",
              "    .colab-df-container {\n",
              "      display:flex;\n",
              "      gap: 12px;\n",
              "    }\n",
              "\n",
              "    .colab-df-convert {\n",
              "      background-color: #E8F0FE;\n",
              "      border: none;\n",
              "      border-radius: 50%;\n",
              "      cursor: pointer;\n",
              "      display: none;\n",
              "      fill: #1967D2;\n",
              "      height: 32px;\n",
              "      padding: 0 0 0 0;\n",
              "      width: 32px;\n",
              "    }\n",
              "\n",
              "    .colab-df-convert:hover {\n",
              "      background-color: #E2EBFA;\n",
              "      box-shadow: 0px 1px 2px rgba(60, 64, 67, 0.3), 0px 1px 3px 1px rgba(60, 64, 67, 0.15);\n",
              "      fill: #174EA6;\n",
              "    }\n",
              "\n",
              "    .colab-df-buttons div {\n",
              "      margin-bottom: 4px;\n",
              "    }\n",
              "\n",
              "    [theme=dark] .colab-df-convert {\n",
              "      background-color: #3B4455;\n",
              "      fill: #D2E3FC;\n",
              "    }\n",
              "\n",
              "    [theme=dark] .colab-df-convert:hover {\n",
              "      background-color: #434B5C;\n",
              "      box-shadow: 0px 1px 3px 1px rgba(0, 0, 0, 0.15);\n",
              "      filter: drop-shadow(0px 1px 2px rgba(0, 0, 0, 0.3));\n",
              "      fill: #FFFFFF;\n",
              "    }\n",
              "  </style>\n",
              "\n",
              "    <script>\n",
              "      const buttonEl =\n",
              "        document.querySelector('#df-ea3f6b60-c7f2-4008-bcd5-1538b609d5c0 button.colab-df-convert');\n",
              "      buttonEl.style.display =\n",
              "        google.colab.kernel.accessAllowed ? 'block' : 'none';\n",
              "\n",
              "      async function convertToInteractive(key) {\n",
              "        const element = document.querySelector('#df-ea3f6b60-c7f2-4008-bcd5-1538b609d5c0');\n",
              "        const dataTable =\n",
              "          await google.colab.kernel.invokeFunction('convertToInteractive',\n",
              "                                                    [key], {});\n",
              "        if (!dataTable) return;\n",
              "\n",
              "        const docLinkHtml = 'Like what you see? Visit the ' +\n",
              "          '<a target=\"_blank\" href=https://colab.research.google.com/notebooks/data_table.ipynb>data table notebook</a>'\n",
              "          + ' to learn more about interactive tables.';\n",
              "        element.innerHTML = '';\n",
              "        dataTable['output_type'] = 'display_data';\n",
              "        await google.colab.output.renderOutput(dataTable, element);\n",
              "        const docLink = document.createElement('div');\n",
              "        docLink.innerHTML = docLinkHtml;\n",
              "        element.appendChild(docLink);\n",
              "      }\n",
              "    </script>\n",
              "  </div>\n",
              "\n",
              "\n",
              "<div id=\"df-0da51b5c-c2b2-44ff-813f-68241ef3ac12\">\n",
              "  <button class=\"colab-df-quickchart\" onclick=\"quickchart('df-0da51b5c-c2b2-44ff-813f-68241ef3ac12')\"\n",
              "            title=\"Suggest charts\"\n",
              "            style=\"display:none;\">\n",
              "\n",
              "<svg xmlns=\"http://www.w3.org/2000/svg\" height=\"24px\"viewBox=\"0 0 24 24\"\n",
              "     width=\"24px\">\n",
              "    <g>\n",
              "        <path d=\"M19 3H5c-1.1 0-2 .9-2 2v14c0 1.1.9 2 2 2h14c1.1 0 2-.9 2-2V5c0-1.1-.9-2-2-2zM9 17H7v-7h2v7zm4 0h-2V7h2v10zm4 0h-2v-4h2v4z\"/>\n",
              "    </g>\n",
              "</svg>\n",
              "  </button>\n",
              "\n",
              "<style>\n",
              "  .colab-df-quickchart {\n",
              "      --bg-color: #E8F0FE;\n",
              "      --fill-color: #1967D2;\n",
              "      --hover-bg-color: #E2EBFA;\n",
              "      --hover-fill-color: #174EA6;\n",
              "      --disabled-fill-color: #AAA;\n",
              "      --disabled-bg-color: #DDD;\n",
              "  }\n",
              "\n",
              "  [theme=dark] .colab-df-quickchart {\n",
              "      --bg-color: #3B4455;\n",
              "      --fill-color: #D2E3FC;\n",
              "      --hover-bg-color: #434B5C;\n",
              "      --hover-fill-color: #FFFFFF;\n",
              "      --disabled-bg-color: #3B4455;\n",
              "      --disabled-fill-color: #666;\n",
              "  }\n",
              "\n",
              "  .colab-df-quickchart {\n",
              "    background-color: var(--bg-color);\n",
              "    border: none;\n",
              "    border-radius: 50%;\n",
              "    cursor: pointer;\n",
              "    display: none;\n",
              "    fill: var(--fill-color);\n",
              "    height: 32px;\n",
              "    padding: 0;\n",
              "    width: 32px;\n",
              "  }\n",
              "\n",
              "  .colab-df-quickchart:hover {\n",
              "    background-color: var(--hover-bg-color);\n",
              "    box-shadow: 0 1px 2px rgba(60, 64, 67, 0.3), 0 1px 3px 1px rgba(60, 64, 67, 0.15);\n",
              "    fill: var(--button-hover-fill-color);\n",
              "  }\n",
              "\n",
              "  .colab-df-quickchart-complete:disabled,\n",
              "  .colab-df-quickchart-complete:disabled:hover {\n",
              "    background-color: var(--disabled-bg-color);\n",
              "    fill: var(--disabled-fill-color);\n",
              "    box-shadow: none;\n",
              "  }\n",
              "\n",
              "  .colab-df-spinner {\n",
              "    border: 2px solid var(--fill-color);\n",
              "    border-color: transparent;\n",
              "    border-bottom-color: var(--fill-color);\n",
              "    animation:\n",
              "      spin 1s steps(1) infinite;\n",
              "  }\n",
              "\n",
              "  @keyframes spin {\n",
              "    0% {\n",
              "      border-color: transparent;\n",
              "      border-bottom-color: var(--fill-color);\n",
              "      border-left-color: var(--fill-color);\n",
              "    }\n",
              "    20% {\n",
              "      border-color: transparent;\n",
              "      border-left-color: var(--fill-color);\n",
              "      border-top-color: var(--fill-color);\n",
              "    }\n",
              "    30% {\n",
              "      border-color: transparent;\n",
              "      border-left-color: var(--fill-color);\n",
              "      border-top-color: var(--fill-color);\n",
              "      border-right-color: var(--fill-color);\n",
              "    }\n",
              "    40% {\n",
              "      border-color: transparent;\n",
              "      border-right-color: var(--fill-color);\n",
              "      border-top-color: var(--fill-color);\n",
              "    }\n",
              "    60% {\n",
              "      border-color: transparent;\n",
              "      border-right-color: var(--fill-color);\n",
              "    }\n",
              "    80% {\n",
              "      border-color: transparent;\n",
              "      border-right-color: var(--fill-color);\n",
              "      border-bottom-color: var(--fill-color);\n",
              "    }\n",
              "    90% {\n",
              "      border-color: transparent;\n",
              "      border-bottom-color: var(--fill-color);\n",
              "    }\n",
              "  }\n",
              "</style>\n",
              "\n",
              "  <script>\n",
              "    async function quickchart(key) {\n",
              "      const quickchartButtonEl =\n",
              "        document.querySelector('#' + key + ' button');\n",
              "      quickchartButtonEl.disabled = true;  // To prevent multiple clicks.\n",
              "      quickchartButtonEl.classList.add('colab-df-spinner');\n",
              "      try {\n",
              "        const charts = await google.colab.kernel.invokeFunction(\n",
              "            'suggestCharts', [key], {});\n",
              "      } catch (error) {\n",
              "        console.error('Error during call to suggestCharts:', error);\n",
              "      }\n",
              "      quickchartButtonEl.classList.remove('colab-df-spinner');\n",
              "      quickchartButtonEl.classList.add('colab-df-quickchart-complete');\n",
              "    }\n",
              "    (() => {\n",
              "      let quickchartButtonEl =\n",
              "        document.querySelector('#df-0da51b5c-c2b2-44ff-813f-68241ef3ac12 button');\n",
              "      quickchartButtonEl.style.display =\n",
              "        google.colab.kernel.accessAllowed ? 'block' : 'none';\n",
              "    })();\n",
              "  </script>\n",
              "</div>\n",
              "    </div>\n",
              "  </div>\n"
            ],
            "text/plain": [
              "                                           image_dir  image_lab  \\\n",
              "0  /content/drive/MyDrive/Masters 24/DeepLearning...  xai_med_0   \n",
              "1  /content/drive/MyDrive/Masters 24/DeepLearning...  xai_med_6   \n",
              "2  /content/drive/MyDrive/Masters 24/DeepLearning...  xai_med_4   \n",
              "3  /content/drive/MyDrive/Masters 24/DeepLearning...  xai_med_3   \n",
              "4  /content/drive/MyDrive/Masters 24/DeepLearning...  xai_med_1   \n",
              "\n",
              "                                           label_dir  label_lab  \n",
              "0  /content/drive/MyDrive/Masters 24/DeepLearning...  xai_med_0  \n",
              "1  /content/drive/MyDrive/Masters 24/DeepLearning...  xai_med_6  \n",
              "2  /content/drive/MyDrive/Masters 24/DeepLearning...  xai_med_4  \n",
              "3  /content/drive/MyDrive/Masters 24/DeepLearning...  xai_med_3  \n",
              "4  /content/drive/MyDrive/Masters 24/DeepLearning...  xai_med_1  "
            ]
          },
          "execution_count": 9,
          "metadata": {},
          "output_type": "execute_result"
        }
      ],
      "source": [
        "# Set the DataFrame to match images and labels\n",
        "\n",
        "# Set the directories\n",
        "images_directory = \"/content/drive/MyDrive/Masters 24/DeepLearning/DataSets/assignment_initial/split\"\n",
        "labels_directory = \"/content/drive/MyDrive/Masters 24/DeepLearning/DataSets/assignment_initial/labels\"\n",
        "\n",
        "# Fetch the file names and directories\n",
        "image_dir = [images_directory+\"/\"+file for file in os.listdir(images_directory)]\n",
        "image_lab = [file.removesuffix('.jpg') for file in os.listdir(images_directory)]\n",
        "label_dir = [labels_directory+\"/\"+file for file in os.listdir(labels_directory)]\n",
        "label_lab = [file.removesuffix('.txt') for file in os.listdir(labels_directory)]\n",
        "\n",
        "# We define two DataFrames and merge just to make sure that the keys match\n",
        "image_df = pd.DataFrame({'image_dir':image_dir, 'image_lab':image_lab})\n",
        "labels_df = pd.DataFrame({'label_dir':label_dir, 'label_lab':label_lab})\n",
        "image_label_df = pd.merge(image_df, labels_df, left_on='image_lab', right_on='label_lab')\n",
        "image_label_df.head()"
      ]
    },
    {
      "cell_type": "markdown",
      "id": "d0d5225d",
      "metadata": {},
      "source": [
        "Based on our DataFrame, we then split the data into training and validation sets (70/30). We also create a `data.yaml` file that will be used during the trainig to know where to find the data to fine-tune the model. It can be found in the `resources` folder."
      ]
    },
    {
      "cell_type": "code",
      "execution_count": null,
      "id": "soibmVZjTGNa",
      "metadata": {
        "id": "soibmVZjTGNa"
      },
      "outputs": [],
      "source": [
        "#split into training and validation sample\n",
        "seed = 123\n",
        "train01, val01 = train_test_split(image_label_df, test_size=0.3, random_state = seed)"
      ]
    },
    {
      "cell_type": "markdown",
      "id": "a15dacb8",
      "metadata": {},
      "source": [
        "We will structure our data according to the `data.yaml` file as follows:\n",
        "\n",
        "```bash\n",
        "> data\n",
        "    > train\n",
        "        > images\n",
        "        > labels\n",
        "    > valid\n",
        "        > images\n",
        "        > labels\n",
        "    data.yaml\n",
        "```\n",
        "\n",
        "The `copy_data_to_yolofolders` is essentially a wrapper of the `shutil.copy2` function. It has been created by [Philippe Baecke](https://www.linkedin.com/in/philippebaecke/) and all credits go to him."
      ]
    },
    {
      "cell_type": "code",
      "execution_count": null,
      "id": "WhUzSeFDlVW-",
      "metadata": {
        "id": "WhUzSeFDlVW-"
      },
      "outputs": [],
      "source": [
        "#This function will transfer the images and labels from their original directory indicated in the input_df and copy this to an output_path with a structure that can be used for YOLO\n",
        "#please note that training data should have folder = \"train\", validation =\"valid\", test = \"test\"\n",
        "\n",
        "def copy_data_to_yolofolders(input_df, image_dir, label_dir, folder, output_path):\n",
        "    # Create the output directory if it doesn't exist\n",
        "    output_folder = os.path.join(output_path, folder)\n",
        "\n",
        "    # Delete existing files in the output directory\n",
        "    if os.path.exists(output_folder):\n",
        "        shutil.rmtree(output_folder)\n",
        "\n",
        "    # Create the output directories\n",
        "    os.makedirs(os.path.join(output_folder, 'images'), exist_ok=True)\n",
        "    os.makedirs(os.path.join(output_folder, 'labels'), exist_ok=True)\n",
        "\n",
        "    # Iterate through the dataframe and copy files\n",
        "    for index, row in input_df.iterrows():\n",
        "        image_path = row[image_dir]\n",
        "        label_path = row[label_dir]\n",
        "\n",
        "        # Extract the filename from the source path\n",
        "        image_filename = os.path.basename(image_path)\n",
        "        label_filename = os.path.basename(label_path)\n",
        "\n",
        "        # Define output destinations\n",
        "        output_image = os.path.join(output_folder, 'images', image_filename)\n",
        "        output_label = os.path.join(output_folder, 'labels', label_filename)\n",
        "\n",
        "        # Copy image and label to the output directory\n",
        "        shutil.copy2(image_path, output_image)\n",
        "        shutil.copy2(label_path, output_label)\n",
        "\n",
        "    print(f\"Data copied to {output_folder}\")"
      ]
    },
    {
      "cell_type": "code",
      "execution_count": null,
      "id": "2TCHzXNXel1U",
      "metadata": {
        "colab": {
          "base_uri": "https://localhost:8080/"
        },
        "id": "2TCHzXNXel1U",
        "outputId": "c6df4b87-543e-4ba0-ffd1-60171fd9eac3"
      },
      "outputs": [
        {
          "name": "stdout",
          "output_type": "stream",
          "text": [
            "Data copied to /content/drive/MyDrive/Masters 24/DeepLearning/DataSets/assignment/train\n",
            "Data copied to /content/drive/MyDrive/Masters 24/DeepLearning/DataSets/assignment/valid\n"
          ]
        }
      ],
      "source": [
        "# copy_data_to_yolofolders(input_df=train01,\n",
        "#                          image_dir = \"image_dir\",\n",
        "#                          label_dir = \"label_dir\",\n",
        "#                          folder = \"train\",\n",
        "#                          output_path = \"/content/drive/MyDrive/Masters 24/DeepLearning/DataSets/assignment\" )\n",
        "\n",
        "# copy_data_to_yolofolders(input_df=val01,\n",
        "#                          image_dir = 'image_dir',\n",
        "#                          label_dir = \"label_dir\",\n",
        "#                          folder = \"valid\",\n",
        "#                          output_path = \"/content/drive/MyDrive/Masters 24/DeepLearning/DataSets/assignment\" )"
      ]
    },
    {
      "cell_type": "markdown",
      "id": "845a9b78",
      "metadata": {},
      "source": [
        "## 3. Model fine-tuning\n",
        "\n",
        "We fine-tune the largest YOLOv8 model with our data. The model is trained for 100 epochs, with a patience of 5. Then the model is moved from the `runs` folder to the `chosen` path.\n",
        "\n",
        "The `yolo_transfer_results` function is a wrapper of `shutil.move` function and has also been created by [Philippe Baecke](https://www.linkedin.com/in/philippebaecke/)."
      ]
    },
    {
      "cell_type": "code",
      "execution_count": null,
      "id": "MJhBEnTOkPG7",
      "metadata": {
        "colab": {
          "base_uri": "https://localhost:8080/"
        },
        "id": "MJhBEnTOkPG7",
        "outputId": "77f1afda-f81b-4eb2-82e0-80ad6177c697"
      },
      "outputs": [
        {
          "name": "stdout",
          "output_type": "stream",
          "text": [
            "Downloading https://github.com/ultralytics/assets/releases/download/v0.0.0/yolov8n.pt to 'yolov8n.pt'...\n"
          ]
        },
        {
          "name": "stderr",
          "output_type": "stream",
          "text": [
            "100%|██████████| 6.23M/6.23M [00:00<00:00, 139MB/s]\n"
          ]
        }
      ],
      "source": [
        "model = YOLO('yolov8x.pt')\n",
        "results = model.train(data='/content/drive/MyDrive/Masters 24/DeepLearning/DataSets/assignment/data.yaml', epochs=100, imgsz=640, patience = 5, plots = True)"
      ]
    },
    {
      "cell_type": "code",
      "execution_count": null,
      "id": "Vku0hRwyysz2",
      "metadata": {
        "id": "Vku0hRwyysz2"
      },
      "outputs": [],
      "source": [
        "import os\n",
        "import shutil\n",
        "\n",
        "def yolo_transfer_results(source_path, destination_path, overwrite=1):\n",
        "# Transfer results from runs to a destination path.\n",
        "# Parameters:\n",
        "# - source_path (str): The source path to the results.\n",
        "# - destination_path (str): The destination path to transfer the results.\n",
        "# - overwrite (int): Set overwrite to 0 to check for an existing destination path, set to 1 to overwrite, set to 2 to add content to the destination.\n",
        "\n",
        "    # Check if the destination path exists\n",
        "    if os.path.exists(destination_path):\n",
        "        if overwrite == 0:\n",
        "            raise ValueError(\"Destination path already exists. Set 'overwrite' to 1 to overwrite.\")\n",
        "        elif overwrite == 1:\n",
        "            # If overwrite is set to 1, clear the destination path\n",
        "            shutil.rmtree(destination_path, ignore_errors=True)  # Remove any remaining files or subdirectories\n",
        "\n",
        "    # Move the source directory to the destination\n",
        "    shutil.move(source_path, destination_path)"
      ]
    },
    {
      "cell_type": "code",
      "execution_count": null,
      "id": "dOdCi6KBkZdX",
      "metadata": {
        "id": "dOdCi6KBkZdX"
      },
      "outputs": [],
      "source": [
        "yolo_transfer_results(source_path = \"runs/detect/train\",\n",
        "                      destination_path = \"/content/drive/MyDrive/Masters 24/DeepLearning/Models/assignment/Large Model\",\n",
        "                      overwrite = 0)"
      ]
    }
  ],
  "metadata": {
    "accelerator": "GPU",
    "colab": {
      "gpuType": "T4",
      "provenance": []
    },
    "kernelspec": {
      "display_name": "Python 3",
      "name": "python3"
    },
    "language_info": {
      "codemirror_mode": {
        "name": "ipython",
        "version": 3
      },
      "file_extension": ".py",
      "mimetype": "text/x-python",
      "name": "python",
      "nbconvert_exporter": "python",
      "pygments_lexer": "ipython3",
      "version": "3.9.7"
    }
  },
  "nbformat": 4,
  "nbformat_minor": 5
}
