{
 "cells": [
  {
   "cell_type": "markdown",
   "metadata": {},
   "source": [
    "# PDF Cleaning Example"
   ]
  },
  {
   "cell_type": "code",
   "execution_count": 28,
   "metadata": {},
   "outputs": [],
   "source": [
    "import pdf_cleaning as pc\n",
    "\n",
    "input_dir = 'input_pdf'\n",
    "output_dir = 'cleaned_pdf'\n",
    "split_dir = 'split_jpg'\n",
    "model_dir = '../models/cleaner_x.pt'\n",
    "dictionnary_dir = 'pdf_jpg.json'"
   ]
  },
  {
   "cell_type": "code",
   "execution_count": 26,
   "metadata": {},
   "outputs": [
    {
     "name": "stdout",
     "output_type": "stream",
     "text": [
      "   > armbrust-cidr21.pdf converted to jpg (pages: 9)\n",
      "> pdf to jpg dictionnary saved\n"
     ]
    }
   ],
   "source": [
    "pc.create_pdf2jpg(dictionnary_dir, input_dir, split_dir, verbose=False)\n",
    "pc.init_pdf2jpg(dictionnary_dir, verbose=False)\n",
    "pc.transform_pdf_to_jpg(dictionnary_dir)"
   ]
  },
  {
   "cell_type": "code",
   "execution_count": 29,
   "metadata": {},
   "outputs": [
    {
     "ename": "TypeError",
     "evalue": "'float' object is not subscriptable",
     "output_type": "error",
     "traceback": [
      "\u001b[1;31m---------------------------------------------------------------------------\u001b[0m",
      "\u001b[1;31mTypeError\u001b[0m                                 Traceback (most recent call last)",
      "Cell \u001b[1;32mIn[29], line 2\u001b[0m\n\u001b[0;32m      1\u001b[0m \u001b[38;5;66;03m# predictions = pc.identify_chunks_to_clean(model_dir, dictionnary_dir, conf=0.25)\u001b[39;00m\n\u001b[1;32m----> 2\u001b[0m \u001b[43mpc\u001b[49m\u001b[38;5;241;43m.\u001b[39;49m\u001b[43mclean_pdf\u001b[49m\u001b[43m(\u001b[49m\u001b[43minput_dir\u001b[49m\u001b[43m,\u001b[49m\u001b[43m \u001b[49m\u001b[43moutput_dir\u001b[49m\u001b[43m,\u001b[49m\u001b[43m \u001b[49m\u001b[43mpredictions\u001b[49m\u001b[43m,\u001b[49m\u001b[43m \u001b[49m\u001b[43mthresholds\u001b[49m\u001b[38;5;241;43m=\u001b[39;49m\u001b[38;5;241;43m0.25\u001b[39;49m\u001b[43m)\u001b[49m\n\u001b[0;32m      4\u001b[0m \u001b[38;5;66;03m# alternative_thresholds = {\u001b[39;00m\n\u001b[0;32m      5\u001b[0m \u001b[38;5;66;03m#     \"figure\": 0.55,\u001b[39;00m\n\u001b[0;32m      6\u001b[0m \u001b[38;5;66;03m#     \"table\": 0.60,\u001b[39;00m\n\u001b[1;32m   (...)\u001b[0m\n\u001b[0;32m     10\u001b[0m \u001b[38;5;66;03m#     \"reference\":0.50\u001b[39;00m\n\u001b[0;32m     11\u001b[0m \u001b[38;5;66;03m# }\u001b[39;00m\n",
      "File \u001b[1;32mc:\\Users\\User\\Documents\\VLERICK\\DL\\pdf-cleaning\\pdf_cleaning\\cleaning.py:199\u001b[0m, in \u001b[0;36mclean_pdf\u001b[1;34m(input_dir, output_dir, predictions, thresholds, verbose)\u001b[0m\n\u001b[0;32m    195\u001b[0m if type(thresholds) is float:\n\u001b[0;32m    196\u001b[0m     thresholds = {\n\u001b[0;32m    197\u001b[0m         class_pred: thresholds for class_pred in predictions.CLASS.unique().tolist()}\n\u001b[1;32m--> 199\u001b[0m # Keep only the chunks with a confidence above the threshold\n\u001b[0;32m    200\u001b[0m keep = [True if row['CONFIDENCE'] >= thresholds[row[\"CLASS\"]] else\n\u001b[0;32m    201\u001b[0m         False for _, row in predictions.iterrows()]\n\u001b[0;32m    202\u001b[0m predictions = predictions[keep]\n",
      "File \u001b[1;32mc:\\Users\\User\\Documents\\VLERICK\\DL\\pdf-cleaning\\pdf_cleaning\\cleaning.py:199\u001b[0m, in \u001b[0;36m<listcomp>\u001b[1;34m(.0)\u001b[0m\n\u001b[0;32m    195\u001b[0m if type(thresholds) is float:\n\u001b[0;32m    196\u001b[0m     thresholds = {\n\u001b[0;32m    197\u001b[0m         class_pred: thresholds for class_pred in predictions.CLASS.unique().tolist()}\n\u001b[1;32m--> 199\u001b[0m # Keep only the chunks with a confidence above the threshold\n\u001b[0;32m    200\u001b[0m keep = [True if row['CONFIDENCE'] >= thresholds[row[\"CLASS\"]] else\n\u001b[0;32m    201\u001b[0m         False for _, row in predictions.iterrows()]\n\u001b[0;32m    202\u001b[0m predictions = predictions[keep]\n",
      "\u001b[1;31mTypeError\u001b[0m: 'float' object is not subscriptable"
     ]
    }
   ],
   "source": [
    "# predictions = pc.identify_chunks_to_clean(model_dir, dictionnary_dir, conf=0.25)\n",
    "pc.clean_pdf(input_dir, output_dir, predictions, thresholds=0.25)\n",
    "\n",
    "# alternative_thresholds = {\n",
    "#     \"figure\": 0.55,\n",
    "#     \"table\": 0.60,\n",
    "#     \"title\": 0.4,\n",
    "#     \"header\": 0.55,\n",
    "#     \"footnote\": 0.175,\n",
    "#     \"reference\":0.50\n",
    "# }"
   ]
  },
  {
   "cell_type": "code",
   "execution_count": null,
   "metadata": {},
   "outputs": [
    {
     "name": "stdout",
     "output_type": "stream",
     "text": [
      "\n",
      "0: 640x512 1 footnote, 2 references, 3 titles, 1: 640x512 4 figures, 2 headers, 1 title, 2: 640x512 1 header, 2 titles, 3: 640x512 1 figure, 3 headers, 2 titles, 4: 640x512 1 footnote, 1 figure, 1 header, 5: 640x512 1 figure, 1 header, 3 titles, 6: 640x512 1 header, 1 reference, 4 titles, 7: 640x512 1 header, 2 references, 18502.0ms\n",
      "Speed: 9.0ms preprocess, 2312.7ms inference, 5.7ms postprocess per image at shape (1, 3, 640, 512)\n",
      "Results saved to \u001b[1mcleaned_pdf\\boxes\\armbrust-cidr21\u001b[0m\n"
     ]
    }
   ],
   "source": [
    "pc.visualize_boxes(model_dir, dictionnary_dir, output_dir, file='armbrust-cidr21.pdf', conf=0.25)"
   ]
  },
  {
   "cell_type": "code",
   "execution_count": null,
   "metadata": {},
   "outputs": [
    {
     "name": "stdout",
     "output_type": "stream",
     "text": [
      "> all images removed\n"
     ]
    }
   ],
   "source": [
    "pc.remove_split(dictionnary_dir, \"all\")"
   ]
  }
 ],
 "metadata": {
  "kernelspec": {
   "display_name": ".venv",
   "language": "python",
   "name": "python3"
  },
  "language_info": {
   "codemirror_mode": {
    "name": "ipython",
    "version": 3
   },
   "file_extension": ".py",
   "mimetype": "text/x-python",
   "name": "python",
   "nbconvert_exporter": "python",
   "pygments_lexer": "ipython3",
   "version": "3.11.7"
  }
 },
 "nbformat": 4,
 "nbformat_minor": 2
}
