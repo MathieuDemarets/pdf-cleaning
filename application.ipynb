{
 "cells": [
  {
   "cell_type": "markdown",
   "metadata": {},
   "source": [
    "# Create Table of Contents\n",
    "\n",
    "Based on the predictions of our model, we will create a Table of Contents with the titles identified and the page numbers where they are located."
   ]
  },
  {
   "cell_type": "code",
   "execution_count": 15,
   "metadata": {},
   "outputs": [],
   "source": [
    "import pdf_cleaning as pc"
   ]
  },
  {
   "cell_type": "markdown",
   "metadata": {},
   "source": [
    "If you don't have a prediction file yet, you can uncomment and run the following cell to generate one."
   ]
  },
  {
   "cell_type": "code",
   "execution_count": 16,
   "metadata": {},
   "outputs": [],
   "source": [
    "# pc.create_pdf2jpg(dictionnary_dir, input_dir, split_dir, verbose=False)\n",
    "# pc.init_pdf2jpg(dictionnary_dir, verbose=False)\n",
    "# pc.transform_pdf_to_jpg(dictionnary_dir)\n",
    "\n",
    "# predictions = pc.identify_chunks_to_clean(model_dir, dictionnary_dir, conf=0.25)\n",
    "# predictions.to_excel('example/predictions.xlsx')"
   ]
  },
  {
   "cell_type": "markdown",
   "metadata": {},
   "source": [
    "Then, we simply run the create_toc function, which will create a new text file with the Table of Contents in the chosen output folder."
   ]
  },
  {
   "cell_type": "code",
   "execution_count": 17,
   "metadata": {},
   "outputs": [],
   "source": [
    "pc.create_toc(\n",
    "    'example/predictions.xlsx',\n",
    "    'example/cleaned_pdf',\n",
    "    'example/input_pdf/armbrust-cidr21.pdf',\n",
    "    conf=0.25)"
   ]
  }
 ],
 "metadata": {
  "kernelspec": {
   "display_name": ".venv",
   "language": "python",
   "name": "python3"
  },
  "language_info": {
   "codemirror_mode": {
    "name": "ipython",
    "version": 3
   },
   "file_extension": ".py",
   "mimetype": "text/x-python",
   "name": "python",
   "nbconvert_exporter": "python",
   "pygments_lexer": "ipython3",
   "version": "3.11.7"
  }
 },
 "nbformat": 4,
 "nbformat_minor": 2
}
