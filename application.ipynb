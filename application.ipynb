{
 "cells": [
  {
   "cell_type": "code",
   "execution_count": 13,
   "metadata": {},
   "outputs": [],
   "source": [
    "import pdf_cleaning as pc\n",
    "import pandas as pd\n",
    "import fitz\n",
    "\n",
    "input_dir = 'example/input_pdf'\n",
    "output_dir = 'example/cleaned_pdf'\n",
    "split_dir = 'example/split_jpg'\n",
    "model_dir = 'models/cleaner_x.pt'\n",
    "dictionnary_dir = 'example/pdf_jpg.json'"
   ]
  },
  {
   "cell_type": "code",
   "execution_count": 4,
   "metadata": {},
   "outputs": [],
   "source": [
    "# pc.create_pdf2jpg(dictionnary_dir, input_dir, split_dir, verbose=False)\n",
    "# pc.init_pdf2jpg(dictionnary_dir, verbose=False)\n",
    "# pc.transform_pdf_to_jpg(dictionnary_dir)\n",
    "\n",
    "# predictions = pc.identify_chunks_to_clean(model_dir, dictionnary_dir, conf=0.25)\n",
    "# predictions.to_excel('example/predictions.xlsx')"
   ]
  },
  {
   "cell_type": "code",
   "execution_count": 41,
   "metadata": {},
   "outputs": [],
   "source": [
    "pc.create_toc(\n",
    "    'example/predictions.xlsx',\n",
    "    'example/cleaned_pdf',\n",
    "    'example/input_pdf/armbrust-cidr21.pdf',\n",
    "    conf=0.5)"
   ]
  }
 ],
 "metadata": {
  "kernelspec": {
   "display_name": ".venv",
   "language": "python",
   "name": "python3"
  },
  "language_info": {
   "codemirror_mode": {
    "name": "ipython",
    "version": 3
   },
   "file_extension": ".py",
   "mimetype": "text/x-python",
   "name": "python",
   "nbconvert_exporter": "python",
   "pygments_lexer": "ipython3",
   "version": "3.11.7"
  }
 },
 "nbformat": 4,
 "nbformat_minor": 2
}
