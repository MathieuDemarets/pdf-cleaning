{
 "cells": [
  {
   "cell_type": "markdown",
   "metadata": {},
   "source": [
    "# Create Table of Contents\n",
    "\n",
    "Based on the predictions of our model, we will create a Table of Contents with the titles identified and the page numbers where they are located."
   ]
  },
  {
   "cell_type": "code",
   "execution_count": 15,
   "metadata": {},
   "outputs": [],
   "source": [
    "import pdf_cleaning as pc"
   ]
  },
  {
   "cell_type": "markdown",
   "metadata": {},
   "source": [
    "If you don't have a prediction file yet, you can uncomment and run the following cell to generate one."
   ]
  },
  {
   "cell_type": "code",
   "execution_count": 16,
   "metadata": {},
   "outputs": [],
   "source": [
    "# pc.create_pdf2jpg(dictionnary_dir, input_dir, split_dir, verbose=False)\n",
    "# pc.init_pdf2jpg(dictionnary_dir, verbose=False)\n",
    "# pc.transform_pdf_to_jpg(dictionnary_dir)\n",
    "\n",
    "# predictions = pc.identify_chunks_to_clean(model_dir, dictionnary_dir, conf=0.25)\n",
    "# predictions.to_excel('example/predictions.xlsx')"
   ]
  },
  {
   "cell_type": "markdown",
   "metadata": {},
   "source": [
    "Then, we simply run the create_toc function, which will create a new text file with the Table of Contents in the chosen output folder."
   ]
  },
  {
   "cell_type": "code",
   "execution_count": 17,
   "metadata": {},
   "outputs": [],
   "source": [
    "pc.create_toc(\n",
    "    'example/predictions.xlsx',\n",
    "    'example/cleaned_pdf',\n",
    "    'example/input_pdf/armbrust-cidr21.pdf',\n",
    "    conf=0.5)"
   ]
  },
  {
   "cell_type": "code",
   "execution_count": 18,
   "metadata": {},
   "outputs": [
    {
     "data": {
      "text/plain": [
       "244.45378417968752"
      ]
     },
     "execution_count": 18,
     "metadata": {},
     "output_type": "execute_result"
    }
   ],
   "source": [
    "import pandas as pd\n",
    "pred = pd.read_excel('example/predictions.xlsx', index_col=0)\n",
    "pred.RIGHT.max()/2*0.8"
   ]
  },
  {
   "cell_type": "code",
   "execution_count": 22,
   "metadata": {},
   "outputs": [
    {
     "name": "stdout",
     "output_type": "stream",
     "text": [
      "35.20560836791992\n",
      "71.71004486083984\n",
      "False\n",
      "---\n",
      "47.43418121337891\n",
      "176.9698638916016\n",
      "False\n",
      "---\n",
      "46.28784561157227\n",
      "334.3445739746094\n",
      "False\n",
      "---\n",
      "308.763427734375\n",
      "650.7855834960938\n",
      "True\n",
      "---\n",
      "303.7597961425781\n",
      "80.50439453125\n",
      "True\n",
      "---\n",
      "307.19677734375\n",
      "413.3034362792969\n",
      "True\n",
      "---\n",
      "47.61183929443359\n",
      "557.939453125\n",
      "False\n",
      "---\n",
      "309.0763549804688\n",
      "602.90625\n",
      "True\n",
      "---\n",
      "45.96816253662109\n",
      "291.5590515136719\n",
      "False\n",
      "---\n",
      "305.8727111816406\n",
      "249.175048828125\n",
      "True\n",
      "---\n",
      "310.771484375\n",
      "321.3204650878906\n",
      "True\n",
      "---\n",
      "46.73662185668945\n",
      "534.9275512695312\n",
      "False\n",
      "---\n",
      "309.8485107421875\n",
      "273.43115234375\n",
      "True\n",
      "---\n",
      "309.9574279785156\n",
      "429.9444580078125\n",
      "True\n",
      "---\n",
      "311.1039733886719\n",
      "519.5818481445312\n",
      "True\n",
      "---\n"
     ]
    }
   ],
   "source": [
    "predictions = pred.copy()\n",
    "predictions = predictions[predictions['CONFIDENCE'] >= 0.25]\n",
    "predictions = predictions[predictions['CLASS'] == 'title']\n",
    "predictions['PAGE_NUMBER'] = [\n",
    "    page.split('.')[0].split('_')[-1] for page in predictions['PAGE']]\n",
    "predictions['PAGE_NUMBER'] = predictions['PAGE_NUMBER'].astype(int)\n",
    "predictions[\"HALF\"] = [\n",
    "    row['LEFT'] > predictions.RIGHT.max()/2*0.8 for _, row in predictions.iterrows()]\n",
    "predictions = predictions.sort_values(by=['PAGE','HALF', 'TOP'], ascending=True)\n",
    "\n",
    "for _, row in predictions.iterrows():\n",
    "    print(row['LEFT'])\n",
    "    print(row['TOP'])\n",
    "    print(row['HALF'])\n",
    "    print('---')"
   ]
  }
 ],
 "metadata": {
  "kernelspec": {
   "display_name": ".venv",
   "language": "python",
   "name": "python3"
  },
  "language_info": {
   "codemirror_mode": {
    "name": "ipython",
    "version": 3
   },
   "file_extension": ".py",
   "mimetype": "text/x-python",
   "name": "python",
   "nbconvert_exporter": "python",
   "pygments_lexer": "ipython3",
   "version": "3.11.7"
  }
 },
 "nbformat": 4,
 "nbformat_minor": 2
}
