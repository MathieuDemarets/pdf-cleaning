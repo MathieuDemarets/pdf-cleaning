{
 "cells": [
  {
   "cell_type": "markdown",
   "metadata": {},
   "source": [
    "# PDF Cleaning Example"
   ]
  },
  {
   "cell_type": "markdown",
   "metadata": {},
   "source": [
    "The first step is to import the `pdf_cleaner` module. Then, we define the location of our initial pdf (`input_dir`), the location of the images obtained (`split_dir`), and the location of the cleaned pdf (`output_pdf`). We will also choose the model to use (`model_dir`), and where to store the file structure JSON (`dictionnary_dir`)."
   ]
  },
  {
   "cell_type": "code",
   "execution_count": 2,
   "metadata": {},
   "outputs": [],
   "source": [
    "# ! pip install pdf_cleaning@git+https://github.com/MathieuDemarets/pdf-cleaning\n",
    "\n",
    "import pdf_cleaning as pc\n",
    "\n",
    "input_dir = 'example/input_pdf'\n",
    "output_dir = 'example/cleaned_pdf'\n",
    "split_dir = 'example/split_jpg'\n",
    "model_dir = 'models/cleaner_x.pt'\n",
    "dictionnary_dir = 'example/pdf_jpg.json'"
   ]
  },
  {
   "cell_type": "markdown",
   "metadata": {},
   "source": [
    "## Preparation\n",
    "\n",
    "We can then use our 3 first functions (they are documented):\n",
    "1. `create_pdf2jpg` to create a dictionary with the file structure information necessary to run the next steps.\n",
    "2. `init_pdf2jpg` to crawl the input directory and identify the pdf files to convert.\n",
    "3. `transform_pdf_to_jpg` to split the pdf files into images (one per page)."
   ]
  },
  {
   "cell_type": "code",
   "execution_count": 2,
   "metadata": {},
   "outputs": [
    {
     "name": "stdout",
     "output_type": "stream",
     "text": [
      "   > armbrust-cidr21.pdf converted to jpg (pages: 9)\n",
      "> pdf to jpg dictionnary saved\n"
     ]
    }
   ],
   "source": [
    "pc.create_pdf2jpg(dictionnary_dir, input_dir, split_dir, verbose=False)\n",
    "pc.init_pdf2jpg(dictionnary_dir, verbose=False)\n",
    "pc.transform_pdf_to_jpg(dictionnary_dir)"
   ]
  },
  {
   "cell_type": "markdown",
   "metadata": {},
   "source": [
    "## Prediction\n",
    "\n",
    "Now that our pdfs have been prepared, we will use computer vision to identify the features of interest with `identify_chunks_to_clean`. When the boxes have been identified and stored in the `predictions` DataFrame, we can use them to remove them from the initial pdf with `clean_pdf`."
   ]
  },
  {
   "cell_type": "code",
   "execution_count": 4,
   "metadata": {},
   "outputs": [
    {
     "name": "stdout",
     "output_type": "stream",
     "text": [
      ">>> predictions\n",
      "> armbrust-cidr21.pdf started\n"
     ]
    },
    {
     "name": "stderr",
     "output_type": "stream",
     "text": [
      "c:\\Users\\User\\Documents\\VLERICK\\DL\\pdf-cleaning\\pdf_cleaning\\cleaning.py:162: FutureWarning: The behavior of DataFrame concatenation with empty or all-NA entries is deprecated. In a future version, this will no longer exclude empty or all-NA columns when determining the result dtypes. To retain the old behavior, exclude the relevant entries before the concat operation.\n",
      "  predictions = pd.concat([predictions, ltrb.loc[:, [\n"
     ]
    },
    {
     "name": "stdout",
     "output_type": "stream",
     "text": [
      "   > armbrust-cidr21_0.jpg predicted\n",
      "   > armbrust-cidr21_1.jpg predicted\n",
      "   > armbrust-cidr21_2.jpg predicted\n",
      "   > armbrust-cidr21_3.jpg predicted\n",
      "   > armbrust-cidr21_4.jpg predicted\n",
      "   > armbrust-cidr21_5.jpg predicted\n",
      "   > armbrust-cidr21_6.jpg predicted\n",
      "   > armbrust-cidr21_7.jpg predicted\n",
      "> armbrust-cidr21.pdf predicted\n",
      "{'title': 0.25, 'reference': 0.25, 'footnote': 0.25, 'figure': 0.25, 'header': 0.25}\n",
      "> Output directory created\n",
      ">>> cleaning\n",
      "> armbrust-cidr21.pdf started\n",
      "   > modifying page 0\n",
      "   > modifying page 1\n",
      "   > modifying page 2\n",
      "   > modifying page 3\n",
      "   > modifying page 4\n",
      "   > modifying page 5\n",
      "   > modifying page 6\n",
      "   > modifying page 7\n",
      "> armbrust-cidr21.pdf cleaned\n"
     ]
    }
   ],
   "source": [
    "predictions = pc.identify_chunks_to_clean(model_dir, dictionnary_dir, conf=0.25)\n",
    "pc.clean_pdf(input_dir, output_dir, predictions, thresholds=0.25)\n",
    "\n",
    "# alternative_thresholds = {\n",
    "#     \"figure\": 0.55,\n",
    "#     \"table\": 0.60,\n",
    "#     \"title\": 0.4,\n",
    "#     \"header\": 0.55,\n",
    "#     \"footnote\": 0.175,\n",
    "#     \"reference\":0.50\n",
    "# }"
   ]
  },
  {
   "cell_type": "markdown",
   "metadata": {},
   "source": [
    "If we wan't more insights as to how the cleaning has been done, we can use `visualize_boxes` to see the bounding boxes on the pdf before cleaning (as was shown in the README file)."
   ]
  },
  {
   "cell_type": "code",
   "execution_count": 1,
   "metadata": {},
   "outputs": [
    {
     "ename": "NameError",
     "evalue": "name 'pc' is not defined",
     "output_type": "error",
     "traceback": [
      "\u001b[1;31m---------------------------------------------------------------------------\u001b[0m",
      "\u001b[1;31mNameError\u001b[0m                                 Traceback (most recent call last)",
      "Cell \u001b[1;32mIn[1], line 1\u001b[0m\n\u001b[1;32m----> 1\u001b[0m \u001b[43mpc\u001b[49m\u001b[38;5;241m.\u001b[39mvisualize_boxes(model_dir, dictionnary_dir, output_dir, file\u001b[38;5;241m=\u001b[39m\u001b[38;5;124m'\u001b[39m\u001b[38;5;124marmbrust-cidr21.pdf\u001b[39m\u001b[38;5;124m'\u001b[39m, conf\u001b[38;5;241m=\u001b[39m\u001b[38;5;241m0.25\u001b[39m)\n",
      "\u001b[1;31mNameError\u001b[0m: name 'pc' is not defined"
     ]
    }
   ],
   "source": [
    "pc.visualize_boxes(model_dir, dictionnary_dir, output_dir, file='armbrust-cidr21.pdf', conf=0.25)"
   ]
  },
  {
   "cell_type": "markdown",
   "metadata": {},
   "source": [
    "Finally, we can remove the temporary image splits with `remove_split_dir`. We can choose to remove them for a single pdf or for all of them, we can also choose to remove the initial pdfs."
   ]
  },
  {
   "cell_type": "code",
   "execution_count": 3,
   "metadata": {},
   "outputs": [
    {
     "name": "stdout",
     "output_type": "stream",
     "text": [
      "> all images removed\n"
     ]
    }
   ],
   "source": [
    "pc.remove_split(dictionnary_dir, \"all\")"
   ]
  }
 ],
 "metadata": {
  "kernelspec": {
   "display_name": ".venv",
   "language": "python",
   "name": "python3"
  },
  "language_info": {
   "codemirror_mode": {
    "name": "ipython",
    "version": 3
   },
   "file_extension": ".py",
   "mimetype": "text/x-python",
   "name": "python",
   "nbconvert_exporter": "python",
   "pygments_lexer": "ipython3",
   "version": "3.11.7"
  }
 },
 "nbformat": 4,
 "nbformat_minor": 2
}
